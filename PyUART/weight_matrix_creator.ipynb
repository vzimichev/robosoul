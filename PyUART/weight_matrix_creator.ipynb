{
 "cells": [
  {
   "cell_type": "code",
   "execution_count": 1,
   "metadata": {},
   "outputs": [],
   "source": [
    "import time,serial,random\n",
    "import numpy as np\n",
    "\n",
    "matrix = np.loadtxt('matrix.txt', 'int')\n",
    "msize = matrix.shape[0] * matrix.shape[1]\n",
    "layer = np.eye(msize,msize)\n",
    "np.savetxt('layer.txt',layer,fmt='%s',delimiter='|')\n",
    "bias = np.random.randint(-1,2,size=(matrix.shape))\n",
    "np.savetxt('bias.txt',layer,fmt='%s',delimiter='\\t')"
   ]
  }
 ],
 "metadata": {
  "kernelspec": {
   "display_name": "Python 3",
   "language": "python",
   "name": "python3"
  },
  "language_info": {
   "codemirror_mode": {
    "name": "ipython",
    "version": 3
   },
   "file_extension": ".py",
   "mimetype": "text/x-python",
   "name": "python",
   "nbconvert_exporter": "python",
   "pygments_lexer": "ipython3",
   "version": "3.7.3"
  }
 },
 "nbformat": 4,
 "nbformat_minor": 2
}
