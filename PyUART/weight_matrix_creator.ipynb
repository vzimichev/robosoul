{
 "cells": [
  {
   "cell_type": "code",
   "execution_count": 5,
   "metadata": {},
   "outputs": [],
   "source": [
    "import time,serial,random\n",
    "import numpy as np\n",
    "\n",
    "matrix = np.loadtxt('matrix.txt', 'int')\n",
    "\n",
    "weight_1 = np.random.randint(-1,2,size=(matrix.shape[0]*7,matrix.shape[0]*5))\n",
    "np.savetxt('weight_1.txt',weight_1,fmt='%.2f',delimiter='|')\n",
    "with open('historia.log', 'a') as myfile:\n",
    "            myfile.write('[Upd]weight_1.txt\\nCreated first weight matrix.\\n')\n",
    "        \n",
    "bias_1 = np.random.randint(-1,2,size=(matrix.shape[0],5))\n",
    "np.savetxt('bias_1.txt',bias_1,fmt='%.2f',delimiter='\\t')\n",
    "with open('historia.log', 'a') as myfile:\n",
    "            myfile.write('[Upd]bias_1.txt\\nCreated first matrix of bias.\\n')\n",
    "        \n",
    "weight_2 = np.random.randint(-1,2,size=(matrix.shape[0]*5,matrix.shape[0]*3))\n",
    "np.savetxt('weight_2.txt',weight_2,fmt='%.2f',delimiter='|')\n",
    "with open('historia.log', 'a') as myfile:\n",
    "            myfile.write('[Upd]weight_2.txt\\nCreated second weight matrix.\\n')\n",
    "        \n",
    "bias_2 = np.random.randint(-1,2,size=(matrix.shape[0],3))\n",
    "np.savetxt('bias_2.txt',bias_2,fmt='%.2f',delimiter='\\t')\n",
    "with open('historia.log', 'a') as myfile:\n",
    "            myfile.write('[Upd]bias_2.txt\\nCreated second matrix of bias.\\n')"
   ]
  }
 ],
 "metadata": {
  "kernelspec": {
   "display_name": "Python 3",
   "language": "python",
   "name": "python3"
  },
  "language_info": {
   "codemirror_mode": {
    "name": "ipython",
    "version": 3
   },
   "file_extension": ".py",
   "mimetype": "text/x-python",
   "name": "python",
   "nbconvert_exporter": "python",
   "pygments_lexer": "ipython3",
   "version": "3.7.1"
  }
 },
 "nbformat": 4,
 "nbformat_minor": 2
}
