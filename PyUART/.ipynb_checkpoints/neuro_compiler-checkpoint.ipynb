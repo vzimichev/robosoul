{
 "cells": [
  {
   "cell_type": "code",
   "execution_count": 15,
   "metadata": {},
   "outputs": [],
   "source": [
    "import numpy as np\n",
    "\n",
    "def forward_pass(mtrx,w,b):\n",
    "     return sigmoid(line(mtrx).dot(w)+line(b)).reshape(b.shape)\n",
    "\n",
    "def line(mtrx):\n",
    "    return mtrx.reshape(1,mtrx.shape[0] * mtrx.shape[1])\n",
    "\n",
    "def sigmoid(a):\n",
    "    return 1.0/(1.0+np.exp(a))\n",
    "\n",
    "def upscale_sensor_data(mtrx):\n",
    "    mtrx[:,0:3] = mtrx[:,0:3] * 40.0 - 20.0\n",
    "    mtrx[:,3:] = mtrx[:,3:] * 500.0 - 250.0\n",
    "    return mtrx\n",
    "    \n",
    "if __name__ == \"__main__\":\n",
    "    matrix = np.loadtxt('matrix.txt', 'int', delimiter='\\t')\n",
    "    weight_1 = np.loadtxt('weight_1.txt', 'float',delimiter='|')\n",
    "    bias_1 = np.loadtxt('bias_1.txt', 'float', delimiter='\\t')\n",
    "    weight_2 = np.loadtxt('weight_2.txt', 'float',delimiter='|')\n",
    "    bias_2 = np.loadtxt('bias_2.txt', 'float', delimiter='\\t')\n",
    "    \n",
    "    matrix = matrix / 180.0\n",
    "    layer = forward_pass(matrix,weight_1,bias_1)        \n",
    "    np.savetxt('layer.txt',layer,fmt='%.10f',delimiter='\\t')\n",
    "    prediction = upscale_sensor_data(forward_pass(layer,weight_2,bias_2))\n",
    "    np.savetxt('prediction.txt',prediction,fmt='%.10f',delimiter='\\t')\n",
    "    with open('historia.log', 'a') as myfile:\n",
    "            myfile.write('[Upd]layer.txt\\nUpdated hidden layer.\\n[Upd]prediction.txt\\nUpdated prediction of accelerometer data.\\n')"
   ]
  },
  {
   "cell_type": "code",
   "execution_count": null,
   "metadata": {},
   "outputs": [],
   "source": []
  }
 ],
 "metadata": {
  "kernelspec": {
   "display_name": "Python 3",
   "language": "python",
   "name": "python3"
  },
  "language_info": {
   "codemirror_mode": {
    "name": "ipython",
    "version": 3
   },
   "file_extension": ".py",
   "mimetype": "text/x-python",
   "name": "python",
   "nbconvert_exporter": "python",
   "pygments_lexer": "ipython3",
   "version": "3.7.1"
  }
 },
 "nbformat": 4,
 "nbformat_minor": 2
}
