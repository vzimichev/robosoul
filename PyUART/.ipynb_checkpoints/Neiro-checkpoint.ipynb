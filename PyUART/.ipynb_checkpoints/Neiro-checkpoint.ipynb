{
 "cells": [
  {
   "cell_type": "code",
   "execution_count": 27,
   "metadata": {},
   "outputs": [
    {
     "name": "stdout",
     "output_type": "stream",
     "text": [
      "3\n",
      "[[ 1.  ]\n",
      " [ 1.2 ]\n",
      " [ 2.94]\n",
      " [-2.1 ]]\n",
      "\n",
      "[[1. 0. 0. 0.]\n",
      " [0. 1. 0. 0.]\n",
      " [0. 0. 1. 0.]\n",
      " [0. 0. 0. 1.]]\n",
      "\n",
      "[[ 1.  ]\n",
      " [ 1.2 ]\n",
      " [ 2.94]\n",
      " [-2.1 ]]\n",
      "\n",
      "[[1. 1. 1. 1. 1. 1.]\n",
      " [1. 1. 1. 1. 1. 1.]\n",
      " [1. 1. 1. 1. 1. 1.]\n",
      " [1. 1. 1. 1. 1. 1.]]\n",
      "\n",
      "[[3.04]\n",
      " [3.04]\n",
      " [3.04]\n",
      " [3.04]\n",
      " [3.04]\n",
      " [3.04]]\n",
      "\n",
      "[[1. 0. 0. 0. 0. 0.]\n",
      " [0. 1. 0. 0. 0. 0.]\n",
      " [0. 0. 1. 0. 0. 0.]\n",
      " [0. 0. 0. 1. 0. 0.]\n",
      " [0. 0. 0. 0. 1. 0.]\n",
      " [0. 0. 0. 0. 0. 1.]]\n",
      "\n",
      "[[3.04]\n",
      " [3.04]\n",
      " [3.04]\n",
      " [3.04]\n",
      " [3.04]\n",
      " [3.04]]\n"
     ]
    }
   ],
   "source": [
    "import numpy as np\n",
    "X=np.eye(4)\n",
    "Y=np.ones((4,6))\n",
    "Z=np.eye(6)\n",
    "ao=1\n",
    "ax=1.2\n",
    "ay=2.94\n",
    "az=-2.1\n",
    "A=np.array([[ao],[ax],[ay],[az]])\n",
    "B=X.T.dot(A)\n",
    "C=Y.T.dot(B)\n",
    "D=Z.T.dot(C)\n",
    "\n",
    "print(int(D[2][0]))\n",
    "print(A,X,B,Y,C,Z,D,sep='\\n\\n')"
   ]
  },
  {
   "cell_type": "code",
   "execution_count": null,
   "metadata": {},
   "outputs": [],
   "source": []
  }
 ],
 "metadata": {
  "kernelspec": {
   "display_name": "Python 3",
   "language": "python",
   "name": "python3"
  },
  "language_info": {
   "codemirror_mode": {
    "name": "ipython",
    "version": 3
   },
   "file_extension": ".py",
   "mimetype": "text/x-python",
   "name": "python",
   "nbconvert_exporter": "python",
   "pygments_lexer": "ipython3",
   "version": "3.7.1"
  }
 },
 "nbformat": 4,
 "nbformat_minor": 2
}
