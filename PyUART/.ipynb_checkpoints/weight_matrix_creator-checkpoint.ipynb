{
 "cells": [
  {
   "cell_type": "code",
   "execution_count": 5,
   "metadata": {},
   "outputs": [],
   "source": [
    "import time,serial,random\n",
    "import numpy as np\n",
    "\n",
    "def zero_filter(mtrx,n):\n",
    "    a = mtrx.shape[0] // n\n",
    "    b = mtrx.shape[1] // n\n",
    "    for i in range(n-1):\n",
    "        for j in range(i+1,n):\n",
    "            for k in range(a):\n",
    "                for l in range(b):\n",
    "                    mtrx[a*i+k][b*j+l] = 0  \n",
    "    return mtrx\n",
    "\n",
    "matrix = np.loadtxt('matrix.txt', 'int')\n",
    "leng = matrix.shape[0]\n",
    "weight_1 = np.random.randint(-50,50,size=(leng*7,leng*5)) / 50\n",
    "weight_1 = zero_filter(weight_1,leng)\n",
    "np.savetxt('weight_1.txt',weight_1,fmt='%.2f',delimiter='|')\n",
    "with open('historia.log', 'a') as myfile:\n",
    "            myfile.write('[Upd]weight_1.txt\\nCreated first weight matrix.\\n')\n",
    "        \n",
    "bias_1 = np.random.randint(-1,2,size=(leng,5))\n",
    "np.savetxt('bias_1.txt',bias_1,fmt='%.2f',delimiter='\\t')\n",
    "with open('historia.log', 'a') as myfile:\n",
    "            myfile.write('[Upd]bias_1.txt\\nCreated first matrix of bias.\\n')\n",
    "        \n",
    "weight_2 = np.random.randint(-1,2,size=(leng*5,leng*3))\n",
    "weight_2 = zero_filter(weight_2,leng)\n",
    "np.savetxt('weight_2.txt',weight_2,fmt='%.2f',delimiter='|')\n",
    "with open('historia.log', 'a') as myfile:\n",
    "            myfile.write('[Upd]weight_2.txt\\nCreated second weight matrix.\\n')\n",
    "        \n",
    "bias_2 = np.random.randint(-1,2,size=(leng,3))\n",
    "np.savetxt('bias_2.txt',bias_2,fmt='%.2f',delimiter='\\t')\n",
    "with open('historia.log', 'a') as myfile:\n",
    "            myfile.write('[Upd]bias_2.txt\\nCreated second matrix of bias.\\n')"
   ]
  }
 ],
 "metadata": {
  "kernelspec": {
   "display_name": "Python 3",
   "language": "python",
   "name": "python3"
  },
  "language_info": {
   "codemirror_mode": {
    "name": "ipython",
    "version": 3
   },
   "file_extension": ".py",
   "mimetype": "text/x-python",
   "name": "python",
   "nbconvert_exporter": "python",
   "pygments_lexer": "ipython3",
   "version": "3.7.3"
  }
 },
 "nbformat": 4,
 "nbformat_minor": 2
}
