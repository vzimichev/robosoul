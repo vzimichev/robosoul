{
 "cells": [
  {
   "cell_type": "code",
   "execution_count": 1,
   "metadata": {},
   "outputs": [],
   "source": [
    "import time,serial,random\n",
    "import numpy as np\n",
    "  \n",
    "\n",
    "'''\n",
    "Receive acc.txt\n",
    "Receive prediction.txt\n",
    "Backprop alg\n",
    "Update weight.txt\n",
    "Update bias.txt\n",
    "Correct acc.txt to be appropriate\n",
    "Backward pass with initials acc.txt to angles of matrix.txt\n",
    "Update matrix.txt\n",
    "'''\n",
    "if __name__ == \"__main__\":\n",
    "    acc = np.loadtxt('acc.txt', 'float', delimiter='\\t')\n",
    "    prediction = np.loadtxt('prediction.txt', 'float', delimiter='\\t')\n",
    "\n",
    "\n",
    "                    \n",
    "                    \n",
    "                    \n",
    "                    "
   ]
  },
  {
   "cell_type": "code",
   "execution_count": null,
   "metadata": {},
   "outputs": [],
   "source": [
    "ser.close()"
   ]
  }
 ],
 "metadata": {
  "kernelspec": {
   "display_name": "Python 3",
   "language": "python",
   "name": "python3"
  },
  "language_info": {
   "codemirror_mode": {
    "name": "ipython",
    "version": 3
   },
   "file_extension": ".py",
   "mimetype": "text/x-python",
   "name": "python",
   "nbconvert_exporter": "python",
   "pygments_lexer": "ipython3",
   "version": "3.7.1"
  }
 },
 "nbformat": 4,
 "nbformat_minor": 2
}
