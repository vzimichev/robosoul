{
 "cells": [
  {
   "cell_type": "code",
   "execution_count": 1,
   "metadata": {},
   "outputs": [
    {
     "name": "stderr",
     "output_type": "stream",
     "text": [
      "C:\\ProgramData\\Anaconda3\\lib\\site-packages\\ipykernel_launcher.py:18: RuntimeWarning: invalid value encountered in log\n"
     ]
    },
    {
     "ename": "ValueError",
     "evalue": "cannot convert float NaN to integer",
     "output_type": "error",
     "traceback": [
      "\u001b[1;31m---------------------------------------------------------------------------\u001b[0m",
      "\u001b[1;31mValueError\u001b[0m                                Traceback (most recent call last)",
      "\u001b[1;32m<ipython-input-1-78bb24819e91>\u001b[0m in \u001b[0;36m<module>\u001b[1;34m\u001b[0m\n\u001b[0;32m     84\u001b[0m         \u001b[0mlayer\u001b[0m \u001b[1;33m=\u001b[0m \u001b[0mbackward_pass\u001b[0m\u001b[1;33m(\u001b[0m\u001b[0macc\u001b[0m\u001b[1;33m,\u001b[0m\u001b[0mweight_2\u001b[0m\u001b[1;33m,\u001b[0m\u001b[0mbias_2\u001b[0m\u001b[1;33m)\u001b[0m\u001b[1;33m\u001b[0m\u001b[1;33m\u001b[0m\u001b[0m\n\u001b[0;32m     85\u001b[0m         \u001b[0mmatrix\u001b[0m \u001b[1;33m=\u001b[0m \u001b[0mbackward_pass\u001b[0m\u001b[1;33m(\u001b[0m\u001b[0mlayer\u001b[0m\u001b[1;33m,\u001b[0m\u001b[0mweight_1\u001b[0m\u001b[1;33m,\u001b[0m\u001b[0mbias_1\u001b[0m\u001b[1;33m)\u001b[0m\u001b[1;33m.\u001b[0m\u001b[0mreshape\u001b[0m\u001b[1;33m(\u001b[0m\u001b[0mmatrix\u001b[0m\u001b[1;33m.\u001b[0m\u001b[0mshape\u001b[0m\u001b[1;33m)\u001b[0m \u001b[1;33m*\u001b[0m \u001b[1;36m180.0\u001b[0m\u001b[1;33m\u001b[0m\u001b[1;33m\u001b[0m\u001b[0m\n\u001b[1;32m---> 86\u001b[1;33m         \u001b[0mnp\u001b[0m\u001b[1;33m.\u001b[0m\u001b[0msavetxt\u001b[0m\u001b[1;33m(\u001b[0m\u001b[1;34m'matrix.txt'\u001b[0m\u001b[1;33m,\u001b[0m\u001b[0mmatrix\u001b[0m\u001b[1;33m,\u001b[0m\u001b[0mfmt\u001b[0m\u001b[1;33m=\u001b[0m\u001b[1;34m'%d'\u001b[0m\u001b[1;33m,\u001b[0m\u001b[0mdelimiter\u001b[0m\u001b[1;33m=\u001b[0m\u001b[1;34m'\\t'\u001b[0m\u001b[1;33m)\u001b[0m\u001b[1;33m\u001b[0m\u001b[1;33m\u001b[0m\u001b[0m\n\u001b[0m",
      "\u001b[1;32mC:\\ProgramData\\Anaconda3\\lib\\site-packages\\numpy\\lib\\npyio.py\u001b[0m in \u001b[0;36msavetxt\u001b[1;34m(fname, X, fmt, delimiter, newline, header, footer, comments, encoding)\u001b[0m\n\u001b[0;32m   1385\u001b[0m             \u001b[1;32mfor\u001b[0m \u001b[0mrow\u001b[0m \u001b[1;32min\u001b[0m \u001b[0mX\u001b[0m\u001b[1;33m:\u001b[0m\u001b[1;33m\u001b[0m\u001b[1;33m\u001b[0m\u001b[0m\n\u001b[0;32m   1386\u001b[0m                 \u001b[1;32mtry\u001b[0m\u001b[1;33m:\u001b[0m\u001b[1;33m\u001b[0m\u001b[1;33m\u001b[0m\u001b[0m\n\u001b[1;32m-> 1387\u001b[1;33m                     \u001b[0mv\u001b[0m \u001b[1;33m=\u001b[0m \u001b[0mformat\u001b[0m \u001b[1;33m%\u001b[0m \u001b[0mtuple\u001b[0m\u001b[1;33m(\u001b[0m\u001b[0mrow\u001b[0m\u001b[1;33m)\u001b[0m \u001b[1;33m+\u001b[0m \u001b[0mnewline\u001b[0m\u001b[1;33m\u001b[0m\u001b[1;33m\u001b[0m\u001b[0m\n\u001b[0m\u001b[0;32m   1388\u001b[0m                 \u001b[1;32mexcept\u001b[0m \u001b[0mTypeError\u001b[0m\u001b[1;33m:\u001b[0m\u001b[1;33m\u001b[0m\u001b[1;33m\u001b[0m\u001b[0m\n\u001b[0;32m   1389\u001b[0m                     raise TypeError(\"Mismatch between array dtype ('%s') and \"\n",
      "\u001b[1;31mValueError\u001b[0m: cannot convert float NaN to integer"
     ]
    }
   ],
   "source": [
    "import time,serial,random\n",
    "import numpy as np\n",
    "\n",
    "'''\n",
    "Receive acc.txt\n",
    "Receive prediction.txt\n",
    "Backprop alg\n",
    "Update weight.txt\n",
    "Update bias.txt\n",
    "Correct acc.txt to be appropriate\n",
    "Backward pass with initials acc.txt to angles of matrix.txt\n",
    "Update matrix.txt\n",
    "'''\n",
    "def sigmoid(a):\n",
    "    return 1.0/(1.0+np.exp(a))\n",
    "\n",
    "def rev_sigmoid(a):\n",
    "    return np.log(1-a) - np.log(a+0.000000000000000000000000000001)\n",
    "\n",
    "def line(mtrx):\n",
    "    return mtrx.reshape(1,mtrx.shape[0] * mtrx.shape[1])\n",
    "\n",
    "def backpropagation(mtrx,layr,prdcn,ac,w_2,w_1,b_2,b_1,alpha,lambd):\n",
    "    mtrx = mtrx / 180.0\n",
    "    ac = ac / 40.0 + 0.5\n",
    "    prdcn = prdcn / 40.0 + 0.5\n",
    "\n",
    "    J = np.sum((ac-prdcn)**2) + np.sum(w_1**2) + np.sum(w_2**2)\n",
    "    with open('historia.log', 'a') as myfile:\n",
    "            myfile.write('Target function ='+str(J)+'\\nRunnning backpropagation.\\n')\n",
    "    delta_error = (prdcn - ac) * prdcn * (1 - prdcn)\n",
    "    delta_hidden = (line(delta_error).dot(w_2.T)) * line(layr) * (1 - line(layr))\n",
    "    delta_input = (line(delta_hidden).dot(w_1.T)) * line(mtrx) * (1 - line(mtrx))\n",
    "      \n",
    "    w_2 = w_2 - alpha * line(layer).T.dot(line(delta_error)) - lambd * w_2 \n",
    "    w_1 = w_1 - alpha * line(matrix).T.dot(line(delta_hidden)) - lambd * w_1 \n",
    "    b_2 = b_2 - alpha * delta_error\n",
    "    b_1 = b_1 - alpha * delta_hidden.reshape(bias_1.shape) \n",
    "    return w_2,w_1,b_2,b_1\n",
    "\n",
    "def zero_filter(mtrx,n):\n",
    "    a = mtrx.shape[0] // n\n",
    "    b = mtrx.shape[1] // n\n",
    "    for i in range(n-1):\n",
    "        for j in range(i+1,n):\n",
    "            for k in range(a):\n",
    "                for l in range(b):\n",
    "                    mtrx[a*i+k][b*j+l] = 0  \n",
    "    return mtrx\n",
    "\n",
    "def correct(a):\n",
    "    'gets real measurements & returns a which not fallen'\n",
    "    return a\n",
    "\n",
    "def backward_pass(mtrx,weight,bias):\n",
    "    return (rev_sigmoid(line(mtrx))-line(bias)).dot(np.linalg.inv(weight))\n",
    "        \n",
    "\n",
    "if __name__ == \"__main__\":\n",
    "        matrix = np.loadtxt('matrix.txt', 'int', delimiter='\\t')\n",
    "        acc = np.loadtxt('acc.txt', 'float', delimiter='\\t')\n",
    "        prediction = np.loadtxt('prediction.txt', 'float', delimiter='\\t')\n",
    "        layer = np.loadtxt('layer.txt', 'float', delimiter='\\t')\n",
    "        weight_1 = np.loadtxt('weight_1.txt', 'float', delimiter='|')\n",
    "        weight_2 = np.loadtxt('weight_2.txt', 'float', delimiter='|')\n",
    "        bias_1 = np.loadtxt('bias_1.txt', 'float', delimiter='\\t')\n",
    "        bias_2 = np.loadtxt('bias_2.txt', 'float', delimiter='\\t')\n",
    "        \n",
    "        learning_rate = 0.1\n",
    "        hyper = 0.2\n",
    "        weight_2,weight_1,bias_2,bias_1 = backpropagation(matrix,layer,prediction,acc,weight_2,weight_1,bias_2,bias_1,learning_rate,hyper)\n",
    "        weight_2 = zero_filter(weight_2,10)\n",
    "        weight_1 = zero_filter(weight_1,10)\n",
    "        \n",
    "        np.savetxt('weight_2.txt',weight_2,fmt='%.2f',delimiter='|')\n",
    "        np.savetxt('weight_1.txt',weight_1,fmt='%.2f',delimiter='|')\n",
    "        np.savetxt('bias_2.txt',bias_2,fmt='%.2f',delimiter='\\t')\n",
    "        np.savetxt('bias_1.txt',bias_1,fmt='%.2f',delimiter='\\t')\n",
    "        \n",
    "        acc = correct(acc)\n",
    "        \n",
    "        acc[:,0:3] = acc[:,0:3]  / 40.0 + 0.5\n",
    "        acc[:,3:] = acc[:,3:]  / 500.0 + 0.5\n",
    "        layer = backward_pass(acc,weight_2,bias_2) \n",
    "        matrix = backward_pass(layer,weight_1,bias_1).reshape(matrix.shape) * 180.0\n",
    "        np.savetxt('matrix.txt',matrix,fmt='%d',delimiter='\\t')\n"
   ]
  },
  {
   "cell_type": "code",
   "execution_count": null,
   "metadata": {},
   "outputs": [],
   "source": []
  }
 ],
 "metadata": {
  "kernelspec": {
   "display_name": "Python 3",
   "language": "python",
   "name": "python3"
  },
  "language_info": {
   "codemirror_mode": {
    "name": "ipython",
    "version": 3
   },
   "file_extension": ".py",
   "mimetype": "text/x-python",
   "name": "python",
   "nbconvert_exporter": "python",
   "pygments_lexer": "ipython3",
   "version": "3.7.1"
  }
 },
 "nbformat": 4,
 "nbformat_minor": 2
}
