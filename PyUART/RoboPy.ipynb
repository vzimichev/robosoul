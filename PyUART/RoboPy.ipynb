{
 "cells": [
  {
   "cell_type": "code",
   "execution_count": 6,
   "metadata": {},
   "outputs": [],
   "source": [
    "import time,serial,random\n",
    "import numpy as np\n",
    "\n",
    "'''\n",
    "Receive acc.txt\n",
    "Receive prediction.txt\n",
    "Backprop alg\n",
    "Update weight.txt\n",
    "Update bias.txt\n",
    "Correct acc.txt to be appropriate\n",
    "Backward pass with initials acc.txt to angles of matrix.txt\n",
    "Update matrix.txt\n",
    "'''\n",
    "def sigmoid(a):\n",
    "    return 1.0/(1.0+np.exp(a))\n",
    "\n",
    "def sigmoid_prime(a):\n",
    "    return sigmoid(a)*(1.0-sigmoid(a))\n",
    "\n",
    "def line(mtrx):\n",
    "    return mtrx.reshape(1,mtrx.shape[0] * mtrx.shape[1])\n",
    "\n",
    "if __name__ == \"__main__\":\n",
    "        matrix = np.loadtxt('matrix.txt', 'int', delimiter='\\t')\n",
    "        acc = np.loadtxt('acc.txt', 'float', delimiter='\\t')\n",
    "        prediction = np.loadtxt('prediction.txt', 'float', delimiter='\\t')\n",
    "        layer = np.loadtxt('layer.txt', 'float', delimiter='\\t')\n",
    "        weight_1 = np.loadtxt('weight_1.txt', 'float', delimiter='|')\n",
    "        weight_2 = np.loadtxt('weight_2.txt', 'float', delimiter='|')\n",
    "        bias_1 = np.loadtxt('bias_1.txt', 'float', delimiter='\\t')\n",
    "        bias_2 = np.loadtxt('bias_2.txt', 'float', delimiter='\\t')\n",
    "\n",
    "        matrix = matrix / 180.0\n",
    "        acc = acc / 40.0 + 0.5\n",
    "        prediction = prediction / 40.0 + 0.5\n",
    "\n",
    "        J = np.sum((acc-prediction)**2) + np.sum(weight_1**2) + np.sum(weight_2**2)\n",
    "\n",
    "        delta_error = (prediction - acc) * prediction * (1 - prediction)\n",
    "        delta_hidden = (line(delta_error).dot(weight_2.T)) * line(layer) * (1 - line(layer))\n",
    "        delta_input = (line(delta_hidden).dot(weight_1.T)) * line(matrix) * (1 - line(matrix))\n",
    "\n",
    "        learning_rate = 0.1\n",
    "        hyper = 0.2\n",
    "        \n",
    "        weight_2 = weight_2 - learning_rate * line(layer).T.dot(line(delta_error)) - hyper * weight_2 \n",
    "        weight_1 = weight_1 - learning_rate * line(matrix).T.dot(line(delta_hidden)) - hyper * weight_1 \n",
    "        bias_2 = bias_2 - learning_rate * delta_error\n",
    "        bias_1 = bias_1 - learning_rate * delta_hidden.reshape(bias_1.shape)\n",
    "        \n",
    "        np.savetxt('weight_2.txt',weight_2,fmt='%.2f',delimiter='|')\n",
    "        np.savetxt('weight_1.txt',weight_1,fmt='%.2f',delimiter='|')\n",
    "        np.savetxt('bias_2.txt',bias_2,fmt='%.2f',delimiter='\\t')\n",
    "        np.savetxt('bias_1.txt',bias_1,fmt='%.2f',delimiter='\\t')"
   ]
  }
 ],
 "metadata": {
  "kernelspec": {
   "display_name": "Python 3",
   "language": "python",
   "name": "python3"
  },
  "language_info": {
   "codemirror_mode": {
    "name": "ipython",
    "version": 3
   },
   "file_extension": ".py",
   "mimetype": "text/x-python",
   "name": "python",
   "nbconvert_exporter": "python",
   "pygments_lexer": "ipython3",
   "version": "3.7.1"
  }
 },
 "nbformat": 4,
 "nbformat_minor": 2
}
