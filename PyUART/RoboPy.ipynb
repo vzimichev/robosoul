{
 "cells": [
  {
   "cell_type": "code",
   "execution_count": 19,
   "metadata": {},
   "outputs": [],
   "source": [
    "import time,serial,random\n",
    "import numpy as np\n",
    "  \n",
    "\n",
    "'''\n",
    "Receive acc.txt\n",
    "Receive prediction.txt\n",
    "Backprop alg\n",
    "Update weight.txt\n",
    "Update bias.txt\n",
    "Correct acc.txt to be appropriate\n",
    "Backward pass with initials acc.txt to angles of matrix.txt\n",
    "Update matrix.txt\n",
    "'''\n",
    "def sigmoid(a):\n",
    "    return 1.0/(1.0+np.exp(a))\n",
    "\n",
    "def sigmoid_prime(a):\n",
    "    return sigmoid(a)*(1.0-sigmoid(a))\n",
    "\n",
    "def line(mtrx):\n",
    "    return mtrx.reshape(mtrx.shape[0] * mtrx.shape[1],1)\n",
    "\n",
    "if __name__ == \"__main__\":\n",
    "    matrix = np.loadtxt('matrix.txt', 'int', delimiter='\\t')\n",
    "    acc = np.loadtxt('acc.txt', 'float', delimiter='\\t')\n",
    "    prediction = np.loadtxt('prediction.txt', 'float', delimiter='\\t')\n",
    "    layer = np.loadtxt('layer.txt', 'float', delimiter='\\t')\n",
    "    weight_1 = np.loadtxt('weight_1.txt', 'float', delimiter='|')\n",
    "    weight_2 = np.loadtxt('weight_2.txt', 'float', delimiter='|')\n",
    "    bias_1 = np.loadtxt('bias_1.txt', 'float', delimiter='\\t')\n",
    "    bias_2 = np.loadtxt('bias_2.txt', 'float', delimiter='\\t')\n",
    "    J = np.sum((acc-prediction)**2)\n",
    "    matrix = matrix / 180.0\n",
    "    acc = acc / 40.0 + 0.5\n",
    "    delta_error = (prediction - acc) * prediction * (1 - prediction)\n",
    "    delta_hidden = (weight_2.dot(line(delta_error))) * line(layer) * (1 - line(layer))\n",
    "    delta_input = (weight_1.dot(line(delta_hidden))) * line(matrix) * (1 - line(matrix))"
   ]
  },
  {
   "cell_type": "code",
   "execution_count": null,
   "metadata": {},
   "outputs": [],
   "source": []
  }
 ],
 "metadata": {
  "kernelspec": {
   "display_name": "Python 3",
   "language": "python",
   "name": "python3"
  },
  "language_info": {
   "codemirror_mode": {
    "name": "ipython",
    "version": 3
   },
   "file_extension": ".py",
   "mimetype": "text/x-python",
   "name": "python",
   "nbconvert_exporter": "python",
   "pygments_lexer": "ipython3",
   "version": "3.7.3"
  }
 },
 "nbformat": 4,
 "nbformat_minor": 2
}
