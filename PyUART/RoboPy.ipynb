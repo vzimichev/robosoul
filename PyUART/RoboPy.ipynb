{
 "cells": [
  {
   "cell_type": "code",
   "execution_count": 6,
   "metadata": {},
   "outputs": [],
   "source": [
    "import time,serial,random\n",
    "import numpy as np\n",
    "\n",
    "'''\n",
    "Receive acc.txt\n",
    "Receive prediction.txt\n",
    "Backprop alg\n",
    "Update weight.txt\n",
    "Update bias.txt\n",
    "Correct acc.txt to be appropriate\n",
    "Backward pass with initials acc.txt to angles of matrix.txt\n",
    "Update matrix.txt\n",
    "'''\n",
    "def sigmoid(a):\n",
    "    return 1.0/(1.0+np.exp(a))\n",
    "\n",
    "def line(mtrx):\n",
    "    return mtrx.reshape(1,mtrx.shape[0] * mtrx.shape[1])\n",
    "\n",
    "def backpropagation(mtrx,layr,prdcn,ac,w_2,w_1,b_2,b_1,alpha,lambd):\n",
    "    mtrx = mtrx / 180.0\n",
    "    ac = ac / 40.0 + 0.5\n",
    "    prdcn = prdcn / 40.0 + 0.5\n",
    "\n",
    "    J = np.sum((ac-prdcn)**2) + np.sum(w_1**2) + np.sum(w_2**2)\n",
    "\n",
    "    delta_error = (prdcn - ac) * prdcn * (1 - prdcn)\n",
    "    delta_hidden = (line(delta_error).dot(w_2.T)) * line(layr) * (1 - line(layr))\n",
    "    delta_input = (line(delta_hidden).dot(w_1.T)) * line(mtrx) * (1 - line(mtrx))\n",
    "      \n",
    "    w_2 = w_2 - alpha * line(layer).T.dot(line(delta_error)) - lambd * w_2 \n",
    "    w_1 = w_1 - alpha * line(matrix).T.dot(line(delta_hidden)) - lambd * w_1 \n",
    "    b_2 = b_2 - alpha * delta_error\n",
    "    b_1 = b_1 - alpha * delta_hidden.reshape(bias_1.shape) \n",
    "    return w_2,w_1,b_2,b_1\n",
    "    \n",
    "\n",
    "if __name__ == \"__main__\":\n",
    "        matrix = np.loadtxt('matrix.txt', 'int', delimiter='\\t')\n",
    "        acc = np.loadtxt('acc.txt', 'float', delimiter='\\t')\n",
    "        prediction = np.loadtxt('prediction.txt', 'float', delimiter='\\t')\n",
    "        layer = np.loadtxt('layer.txt', 'float', delimiter='\\t')\n",
    "        weight_1 = np.loadtxt('weight_1.txt', 'float', delimiter='|')\n",
    "        weight_2 = np.loadtxt('weight_2.txt', 'float', delimiter='|')\n",
    "        bias_1 = np.loadtxt('bias_1.txt', 'float', delimiter='\\t')\n",
    "        bias_2 = np.loadtxt('bias_2.txt', 'float', delimiter='\\t')\n",
    "        \n",
    "        learning_rate = 0.1\n",
    "        \n",
    "        weight_2,weight_1,bias_2,bias_1 = backpropagation(matrix,layer,prediction,acc,weight_2,weight_1,bias_2,bias_1,learning_rate,0.2)\n",
    "        \n",
    "        np.savetxt('weight_2.txt',weight_2,fmt='%.2f',delimiter='|')\n",
    "        np.savetxt('weight_1.txt',weight_1,fmt='%.2f',delimiter='|')\n",
    "        np.savetxt('bias_2.txt',bias_2,fmt='%.2f',delimiter='\\t')\n",
    "        np.savetxt('bias_1.txt',bias_1,fmt='%.2f',delimiter='\\t')"
   ]
  }
 ],
 "metadata": {
  "kernelspec": {
   "display_name": "Python 3",
   "language": "python",
   "name": "python3"
  },
  "language_info": {
   "codemirror_mode": {
    "name": "ipython",
    "version": 3
   },
   "file_extension": ".py",
   "mimetype": "text/x-python",
   "name": "python",
   "nbconvert_exporter": "python",
   "pygments_lexer": "ipython3",
   "version": "3.7.1"
  }
 },
 "nbformat": 4,
 "nbformat_minor": 2
}
