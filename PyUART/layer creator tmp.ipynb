{
 "cells": [
  {
   "cell_type": "code",
   "execution_count": 22,
   "metadata": {},
   "outputs": [
    {
     "name": "stdout",
     "output_type": "stream",
     "text": [
      "(77, 77)\n"
     ]
    }
   ],
   "source": [
    "import time,serial,random\n",
    "import numpy as np\n",
    "\n",
    "matrix = np.loadtxt('matrix.txt', 'int')\n",
    "b = matrix.shape[0]*matrix.shape[1]\n",
    "a=(b,b)\n",
    "print(a)\n",
    "layer = np.random.randint(-1,2,size=a)\n",
    "np.savetxt('layer.txt',layer,fmt='%s',delimiter='|')"
   ]
  },
  {
   "cell_type": "code",
   "execution_count": null,
   "metadata": {},
   "outputs": [],
   "source": []
  }
 ],
 "metadata": {
  "kernelspec": {
   "display_name": "Python 3",
   "language": "python",
   "name": "python3"
  },
  "language_info": {
   "codemirror_mode": {
    "name": "ipython",
    "version": 3
   },
   "file_extension": ".py",
   "mimetype": "text/x-python",
   "name": "python",
   "nbconvert_exporter": "python",
   "pygments_lexer": "ipython3",
   "version": "3.7.3"
  }
 },
 "nbformat": 4,
 "nbformat_minor": 2
}
