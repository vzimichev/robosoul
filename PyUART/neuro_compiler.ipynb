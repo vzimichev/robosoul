{
 "cells": [
  {
   "cell_type": "code",
   "execution_count": null,
   "metadata": {},
   "outputs": [],
   "source": [
    "import numpy as np\n",
    "\n",
    "def forward_pass(mtrx,weight,bias):\n",
    "    size_m = mtrx.shape[0] * mtrx.shape[1]\n",
    "    line = mtrx.reshape(1,size_m)\n",
    "    tmp = line.dot(weight)\n",
    "    tmp = tmp.reshape(mtrx.shape)\n",
    "    return np.vectorize(sigmoid)(tmp)\n",
    "\n",
    "def sigmoid(a):\n",
    "    return int(180.0/(1.0+np.exp(90.0-a)))\n",
    "    \n",
    "if __name__ == \"__main__\":\n",
    "    matrix = np.loadtxt('matrix.txt', 'int')\n",
    "    best = 0\n",
    "    while True:\n",
    "        layer = np.loadtxt('layer.txt', 'float',delimiter='|')\n",
    "        bias = np.loadtxt('bias.txt', 'int')\n",
    "        tmp = forward_pass(matrix,layer,bias)\n",
    "        stf = int(input('Steps to fall: '))\n",
    "        if stf > best:\n",
    "            np.savetxt('tmp.txt',tmp,fmt='%s',delimiter='\\t')\n",
    "            best = stf \n",
    "            print('Found a better way.')\n",
    "        print(matrix)\n",
    "        print(layer)\n",
    "        print(bias)\n",
    "        print(tmp.shape)\n",
    "       \n",
    "                  \n",
    "                    "
   ]
  }
 ],
 "metadata": {
  "kernelspec": {
   "display_name": "Python 3",
   "language": "python",
   "name": "python3"
  },
  "language_info": {
   "codemirror_mode": {
    "name": "ipython",
    "version": 3
   },
   "file_extension": ".py",
   "mimetype": "text/x-python",
   "name": "python",
   "nbconvert_exporter": "python",
   "pygments_lexer": "ipython3",
   "version": "3.7.3"
  }
 },
 "nbformat": 4,
 "nbformat_minor": 2
}
