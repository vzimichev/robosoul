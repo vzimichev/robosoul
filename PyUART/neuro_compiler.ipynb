{
 "cells": [
  {
   "cell_type": "code",
   "execution_count": 2,
   "metadata": {},
   "outputs": [],
   "source": [
    "import numpy as np\n",
    "\n",
    "def forward_pass(mtrx,weight,bias):\n",
    "    size_m = mtrx.shape[0] * mtrx.shape[1]\n",
    "    line = mtrx.reshape(1,size_m)\n",
    "    tmp = line.dot(weight)\n",
    "    tmp = tmp.reshape(bias.shape) + bias\n",
    "    return np.vectorize(sigmoid)(tmp)\n",
    "\n",
    "def sigmoid(a):\n",
    "    return 1.0/(1.0+np.exp(a))\n",
    "    \n",
    "if __name__ == \"__main__\":\n",
    "    matrix = np.loadtxt('matrix.txt', 'int', delimiter='\\t')\n",
    "    weight_1 = np.loadtxt('weight_1.txt', 'float',delimiter='|')\n",
    "    bias_1 = np.loadtxt('bias_1.txt', 'float', delimiter='\\t')\n",
    "    weight_2 = np.loadtxt('weight_2.txt', 'float',delimiter='|')\n",
    "    bias_2 = np.loadtxt('bias_2.txt', 'float', delimiter='\\t')\n",
    "    matrix = matrix / 180.0\n",
    "    layer = forward_pass(matrix,weight_1,bias_1)        \n",
    "    np.savetxt('layer.txt',layer,fmt='%.2f',delimiter='\\t')\n",
    "    prediction = forward_pass(layer,weight_2,bias_2)\n",
    "    prediction[:,0:3] = prediction[:,0:3] * 40.0 - 20.0\n",
    "    prediction[:,3:] = prediction[:,3:] * 500.0 - 250.0\n",
    "    np.savetxt('prediction.txt',prediction,fmt='%.2f',delimiter='\\t')\n",
    "    with open('historia.log', 'a') as myfile:\n",
    "            myfile.write('[Upd]layer.txt\\nUpdated hidden layer.\\n[Upd]prediction.txt\\nUpdated prediction of accelerometer data.\\n')"
   ]
  },
  {
   "cell_type": "code",
   "execution_count": null,
   "metadata": {},
   "outputs": [],
   "source": []
  }
 ],
 "metadata": {
  "kernelspec": {
   "display_name": "Python 3",
   "language": "python",
   "name": "python3"
  },
  "language_info": {
   "codemirror_mode": {
    "name": "ipython",
    "version": 3
   },
   "file_extension": ".py",
   "mimetype": "text/x-python",
   "name": "python",
   "nbconvert_exporter": "python",
   "pygments_lexer": "ipython3",
   "version": "3.7.1"
  }
 },
 "nbformat": 4,
 "nbformat_minor": 2
}
